{
 "cells": [
  {
   "cell_type": "markdown",
   "metadata": {},
   "source": [
    "# Kaggle Challenge : Hire a Machine Learning Engineer"
   ]
  },
  {
   "cell_type": "markdown",
   "metadata": {},
   "source": [
    "https://www.kaggle.com/datasets/sauravsolanki/hire-a-perfect-machine-learning-engineer"
   ]
  },
  {
   "cell_type": "markdown",
   "metadata": {},
   "source": [
    "I realised this challenge during the \"Parcours Recherche\" of the Efrei Paris Engineering School. I worked under the tutelage of Eric Behar, PhD Candidate. This work was done in a month and the goal was to help my tutor to find an approach or a solution to problems of this kind."
   ]
  },
  {
   "cell_type": "markdown",
   "metadata": {},
   "source": [
    " "
   ]
  },
  {
   "cell_type": "markdown",
   "metadata": {},
   "source": [
    " "
   ]
  },
  {
   "cell_type": "markdown",
   "metadata": {},
   "source": [
    "## Importing the Data"
   ]
  },
  {
   "cell_type": "markdown",
   "metadata": {},
   "source": [
    "In this part, I imported the librairies I worked with and my data.\n",
    "The data in question is a job description and various CVs, all that in pdf format.\n",
    "I use Natural Language Processing to lemmatize and removing all the stopwords in those files so i can work better with them."
   ]
  },
  {
   "cell_type": "code",
   "execution_count": 1,
   "metadata": {},
   "outputs": [],
   "source": [
    "import os\n",
    "import spacy\n",
    "from pdfminer.high_level import extract_text\n",
    "import re\n",
    "import pandas as pd\n",
    "from matplotlib import pyplot as plt\n",
    "import numpy as np"
   ]
  },
  {
   "cell_type": "code",
   "execution_count": 2,
   "metadata": {},
   "outputs": [],
   "source": [
    "#I put here my values that I create at first\n",
    "path =r'trainResumes/'\n",
    "nlp = spacy.load(\"en_core_web_sm\")\n",
    "stopwords = nlp.Defaults.stop_words\n",
    "empty_list = []\n",
    "\n",
    "#I start with the lemmatization\n",
    "job_description = nlp(extract_text('dataset/Job Description.pdf'))\n",
    "for token in job_description:\n",
    "    empty_list.append(token.lemma_)\n",
    "\n",
    "job_description = ' '.join(map(str,empty_list))\n",
    "\n",
    "#And after that I remove all the stopwords\n",
    "lst=[]\n",
    "for token in job_description.split():\n",
    "    if token.lower() not in stopwords:\n",
    "        lst.append(token)\n",
    "job_description = ' '.join(lst)\n",
    "job_description = job_description.lower()"
   ]
  },
  {
   "cell_type": "code",
   "execution_count": 3,
   "metadata": {},
   "outputs": [],
   "source": [
    "#This cell puts all CV in a dictionnary with as the key the name of the CV, and as the value the content of it under a form of a string\n",
    "\n",
    "\n",
    "#I put here my values that I create at first\n",
    "list_of_files = []\n",
    "list_of_pdf = []\n",
    "list_of_dates = []\n",
    "list_of_skills = ['data science', 'computer vision', 'natural language processing', 'ai', 'model', 'ml', 'master', 'machine learning', 'clustering', 'logistic regression', 'classification', 'scikit learn', 'numpy', 'pandas', 'matplotlib', 'seaborn', 'tensorflow', 'keras', 'pytorch', 'cnn', 'rnn', 'gan', 'nltk', 'spacy', 'beautifoul soup', 'pyspark', 'hadoop', 'nlp', 'ocr', 'opencv', 'django', 'mongodb', 'nosql', 'graphql', 'sql', 'firebase', 'aws', 'azure', 'google cloud'] \n",
    "chart = []\n",
    "ml = 0\n",
    "\n",
    "#I look here for all the files in a specific directory (here in the path I declared in the cell before)\n",
    "for root, dirs, files in os.walk(path):\n",
    "    for file in files:\n",
    "        list_of_files.append(os.path.join(root,file))\n",
    "    #I check that the file is well a pdf and if so I work with it\n",
    "    for pdf in list_of_files:\n",
    "        if pdf.count('.pdf'):\n",
    "            cpt = 0\n",
    "            empty_list = []\n",
    "            pdf_working = nlp(extract_text(pdf))\n",
    "   \n",
    "            #I start with the lemmatization\n",
    "            for token in pdf_working:\n",
    "                empty_list.append(token.lemma_)\n",
    "            pdf_working = ' '.join(map(str,empty_list))\n",
    "   \n",
    "            #And after that I remove all the stopwords\n",
    "            lst=[]\n",
    "            for token in pdf_working.split():\n",
    "                if token.lower() not in stopwords:\n",
    "                    lst.append(token)\n",
    "            pdf_working = ' '.join(lst)\n",
    "\n",
    "            #This part concerns the graph\n",
    "            for i in list_of_skills:\n",
    "                if i in pdf_working.lower():\n",
    "                    cpt += 1\n",
    "            if 'machine learning' in pdf_working.lower():\n",
    "                ml += 1\n",
    "            \n",
    "            tmp = []\n",
    "            match = re.match(r'.*([1-2][0-9]{3})', pdf_working)\n",
    "            if match is not None:\n",
    "                tmp.append(int(match.group(1)))\n",
    "                tmp.sort()\n",
    "                list_of_dates.append(tmp[0])     \n",
    "                \n",
    "            #I put everything I need in my list, the firstly the name of the pdf then the content\n",
    "            list_of_pdf.append(pdf.rsplit('/')[-1][:-4])\n",
    "            list_of_pdf.append(pdf_working.lower())\n",
    "            chart.append(cpt)\n",
    "\n",
    "#And I end by transforming the list to a dict : [1,2,3,4] becomes {1 : 2, 3 : 4}\n",
    "dict_of_pdf = {list_of_pdf[i]: list_of_pdf[i + 1] for i in range(0, len(list_of_pdf), 2)}"
   ]
  },
  {
   "cell_type": "markdown",
   "metadata": {},
   "source": [
    " "
   ]
  },
  {
   "cell_type": "markdown",
   "metadata": {},
   "source": [
    "## Data Analysis"
   ]
  },
  {
   "cell_type": "markdown",
   "metadata": {},
   "source": [
    "My goal here was to have a better understanding of the dataset I worked with.\n",
    "To do so, I did 4 different data analysis."
   ]
  },
  {
   "cell_type": "code",
   "execution_count": 4,
   "metadata": {},
   "outputs": [
    {
     "data": {
      "image/png": "[encoded data removed]",
      "text/plain": [
       "<Figure size 432x288 with 1 Axes>"
      ]
     },
     "metadata": {
      "needs_background": "light"
     },
     "output_type": "display_data"
    }
   ],
   "source": [
    "#Computation and creation of a histogram\n",
    "\n",
    "fig0, ax0 = plt.subplots()\n",
    "\n",
    "plt.hist(chart, edgecolor='black')\n",
    "ax0.set_title(\"\"\"Presence of key words in CVs\"\"\", fontsize=18)\n",
    "plt.show()"
   ]
  },
  {
   "cell_type": "code",
   "execution_count": 5,
   "metadata": {},
   "outputs": [
    {
     "data": {
      "image/png": "[encoded data removed]",
      "text/plain": [
       "<Figure size 432x288 with 1 Axes>"
      ]
     },
     "metadata": {},
     "output_type": "display_data"
    }
   ],
   "source": [
    "pie = [int(len(list_of_pdf)/2) - ml, ml]\n",
    "labels = ['Nothing', 'Machine Learning']\n",
    "\n",
    "\n",
    "#Computation and creation of a pie chart\n",
    "\n",
    "fig1, ax1 = plt.subplots()\n",
    "explode = (0, 0.2) \n",
    "ax1.pie(pie, explode=explode, labels=labels, shadow=True, startangle=135)\n",
    "ax1.axis('equal')\n",
    "ax1.set_title(\"\"\"Presence of 'Machine Learning' in CVs\"\"\", fontsize=18)\n",
    "plt.show()"
   ]
  },
  {
   "cell_type": "code",
   "execution_count": 6,
   "metadata": {},
   "outputs": [
    {
     "name": "stdout",
     "output_type": "stream",
     "text": [
      "The average diploma is 2.5 old.\n"
     ]
    }
   ],
   "source": [
    "diploma_date = 2022 - sum(list_of_dates)/len(list_of_dates)\n",
    "print(\"The average diploma is {:.1f} old.\".format(diploma_date))"
   ]
  },
  {
   "cell_type": "code",
   "execution_count": 7,
   "metadata": {
    "scrolled": false
   },
   "outputs": [
    {
     "data": {
      "image/png": "[encoded data removed]",
      "text/plain": [
       "<Figure size 432x288 with 1 Axes>"
      ]
     },
     "metadata": {
      "needs_background": "light"
     },
     "output_type": "display_data"
    }
   ],
   "source": [
    "final_dict = {'candidate':list(map(lambda x:x.split(\"_\")[1] ,list(dict_of_pdf.keys()))),'text_cv':list(dict_of_pdf.values())}\n",
    "df = pd.DataFrame(final_dict)\n",
    "\n",
    "list_of_tech = ['scala', 'nosql', 'pandas', 'pytorch', 'keras', 'nlp', 'numpy', 'mongodb', 'tensorflow', 'azure', 'aws', 'scikit learn', 'matplotlib', 'seaborn', 'nltk', 'spacy', 'beautiful soup', 'pyspark', 'Hadoop', 'computer vision', 'opencv', 'django', 'graphql', 'deep learning', 'matlab']\n",
    "for tech in list_of_tech: \n",
    "    df[tech] = df.text_cv.apply(lambda x: 1 if tech in x else 0)\n",
    "df['SumTechno(s)'] = df[list_of_tech].sum(axis=1)\n",
    "\n",
    "fig2, ax2 = plt.subplots()\n",
    "\n",
    "df[list_of_tech].sum().plot.bar()\n",
    "\n",
    "ax2.set_title(\"\"\"Repartition of each language\"\"\", fontsize=18)\n",
    "plt.show()"
   ]
  },
  {
   "cell_type": "markdown",
   "metadata": {},
   "source": [
    " "
   ]
  },
  {
   "cell_type": "markdown",
   "metadata": {},
   "source": [
    "## Score Computation"
   ]
  },
  {
   "cell_type": "markdown",
   "metadata": {},
   "source": [
    "In the end, I reaslised that trying to rank all the CVs could be as interesting as trying to find a match percentage."
   ]
  },
  {
   "cell_type": "code",
   "execution_count": 8,
   "metadata": {},
   "outputs": [],
   "source": [
    "df[\"distanceFromMean\"] = df['SumTechno(s)'].apply(lambda x: x - df['SumTechno(s)'].mean())"
   ]
  },
  {
   "cell_type": "code",
   "execution_count": 9,
   "metadata": {},
   "outputs": [],
   "source": [
    "#We apply a bonus/malus to the Cvs that has a lot of techs, but the bonus is bounded between the 0.1 and 0.9 quantile.\n",
    "df[\"bonusNumTech\"] = df[\"distanceFromMean\"].apply(lambda x: max(df[\"distanceFromMean\"].quantile(q=0.1),min(x,df[\"distanceFromMean\"].quantile(q=0.9))))"
   ]
  },
  {
   "cell_type": "code",
   "execution_count": 10,
   "metadata": {},
   "outputs": [],
   "source": [
    "def get_techs_job_description(job_description, list_of_tech):\n",
    "    list_job = job_description.split(\" \")\n",
    "    return np.array([ 1 if tech in list_job else 0 for tech in list_of_tech])\n",
    "\n",
    "techs_job = get_techs_job_description(job_description, list_of_tech)"
   ]
  },
  {
   "cell_type": "code",
   "execution_count": 11,
   "metadata": {},
   "outputs": [],
   "source": [
    "# Get the percentage of matching techs\n",
    "def get_matching_techs(row,job_description):\n",
    "    return (row[list_of_tech].to_numpy() * get_techs_job_description(job_description, list_of_tech)).sum()/get_techs_job_description(job_description, list_of_tech).sum()\n",
    "#get_matching_techs(df.iloc[0,:],job_description)"
   ]
  },
  {
   "cell_type": "code",
   "execution_count": 25,
   "metadata": {},
   "outputs": [],
   "source": [
    "#TODOThe experience bonus"
   ]
  },
  {
   "cell_type": "code",
   "execution_count": 13,
   "metadata": {},
   "outputs": [],
   "source": [
    "#Scoring and Matching\n",
    "def score(row,job_description):\n",
    "    return (row[\"distanceFromMean\"] + get_matching_techs(row,job_description)*10)"
   ]
  },
  {
   "cell_type": "code",
   "execution_count": 14,
   "metadata": {},
   "outputs": [],
   "source": [
    "df[\"Score\"] = df.apply(lambda x: score(x,job_description), axis = 1)"
   ]
  },
  {
   "cell_type": "markdown",
   "metadata": {},
   "source": [
    " "
   ]
  },
  {
   "cell_type": "markdown",
   "metadata": {},
   "source": [
    "## Score Comparaison"
   ]
  },
  {
   "cell_type": "markdown",
   "metadata": {},
   "source": [
    "Here is the final part, the comparaison of the score I found with the score given in the Kaggle challenge."
   ]
  },
  {
   "cell_type": "code",
   "execution_count": 21,
   "metadata": {},
   "outputs": [],
   "source": [
    "df_theory = pd.read_csv('dataset/train.csv')\n",
    "df_theory[\"candidate\"] = df_theory['CandidateID'].apply(lambda x:x.split(\"_\")[1])\n",
    "df_theory.drop('CandidateID', axis=1, inplace=True)\n",
    "df = pd.merge(df, df_theory, on = \"candidate\", how = \"inner\")"
   ]
  },
  {
   "cell_type": "code",
   "execution_count": 22,
   "metadata": {},
   "outputs": [],
   "source": [
    "df_final = df.sort_values(by='Score', ascending = False)"
   ]
  },
  {
   "cell_type": "code",
   "execution_count": 23,
   "metadata": {
    "scrolled": true
   },
   "outputs": [
    {
     "data": {
      "text/html": [
       "<div>\n",
       "<style scoped>\n",
       "    .dataframe tbody tr th:only-of-type {\n",
       "        vertical-align: middle;\n",
       "    }\n",
       "\n",
       "    .dataframe tbody tr th {\n",
       "        vertical-align: top;\n",
       "    }\n",
       "\n",
       "    .dataframe thead th {\n",
       "        text-align: right;\n",
       "    }\n",
       "</style>\n",
       "<table border=\"1\" class=\"dataframe\">\n",
       "  <thead>\n",
       "    <tr style=\"text-align: right;\">\n",
       "      <th></th>\n",
       "      <th>candidate</th>\n",
       "      <th>text_cv</th>\n",
       "      <th>scala</th>\n",
       "      <th>nosql</th>\n",
       "      <th>pandas</th>\n",
       "      <th>pytorch</th>\n",
       "      <th>keras</th>\n",
       "      <th>nlp</th>\n",
       "      <th>numpy</th>\n",
       "      <th>mongodb</th>\n",
       "      <th>...</th>\n",
       "      <th>django</th>\n",
       "      <th>graphql</th>\n",
       "      <th>deep learning</th>\n",
       "      <th>matlab</th>\n",
       "      <th>SumTechno(s)</th>\n",
       "      <th>distanceFromMean</th>\n",
       "      <th>bonusNumTech</th>\n",
       "      <th>Score</th>\n",
       "      <th>Match Percentage_x</th>\n",
       "      <th>Match Percentage_y</th>\n",
       "    </tr>\n",
       "  </thead>\n",
       "  <tbody>\n",
       "    <tr>\n",
       "      <th>15</th>\n",
       "      <td>063</td>\n",
       "      <td>joseline hernandez d t s c e n t s t n d m c h...</td>\n",
       "      <td>0</td>\n",
       "      <td>0</td>\n",
       "      <td>1</td>\n",
       "      <td>1</td>\n",
       "      <td>1</td>\n",
       "      <td>1</td>\n",
       "      <td>1</td>\n",
       "      <td>0</td>\n",
       "      <td>...</td>\n",
       "      <td>0</td>\n",
       "      <td>0</td>\n",
       "      <td>1</td>\n",
       "      <td>0</td>\n",
       "      <td>9</td>\n",
       "      <td>6.590909</td>\n",
       "      <td>3.590909</td>\n",
       "      <td>11.035354</td>\n",
       "      <td>53.66</td>\n",
       "      <td>53.66</td>\n",
       "    </tr>\n",
       "    <tr>\n",
       "      <th>56</th>\n",
       "      <td>143</td>\n",
       "      <td>m t t h e w h o r r e s j u n o r d e v e l o ...</td>\n",
       "      <td>0</td>\n",
       "      <td>0</td>\n",
       "      <td>0</td>\n",
       "      <td>1</td>\n",
       "      <td>0</td>\n",
       "      <td>1</td>\n",
       "      <td>1</td>\n",
       "      <td>0</td>\n",
       "      <td>...</td>\n",
       "      <td>0</td>\n",
       "      <td>0</td>\n",
       "      <td>1</td>\n",
       "      <td>0</td>\n",
       "      <td>8</td>\n",
       "      <td>5.590909</td>\n",
       "      <td>3.590909</td>\n",
       "      <td>8.368687</td>\n",
       "      <td>13.73</td>\n",
       "      <td>13.73</td>\n",
       "    </tr>\n",
       "    <tr>\n",
       "      <th>43</th>\n",
       "      <td>025</td>\n",
       "      <td>wyatt cooper d t s t r t e g y n d d e l v e r...</td>\n",
       "      <td>0</td>\n",
       "      <td>0</td>\n",
       "      <td>0</td>\n",
       "      <td>1</td>\n",
       "      <td>1</td>\n",
       "      <td>1</td>\n",
       "      <td>0</td>\n",
       "      <td>0</td>\n",
       "      <td>...</td>\n",
       "      <td>0</td>\n",
       "      <td>0</td>\n",
       "      <td>1</td>\n",
       "      <td>0</td>\n",
       "      <td>7</td>\n",
       "      <td>4.590909</td>\n",
       "      <td>3.590909</td>\n",
       "      <td>7.924242</td>\n",
       "      <td>43.17</td>\n",
       "      <td>43.17</td>\n",
       "    </tr>\n",
       "  </tbody>\n",
       "</table>\n",
       "<p>3 rows × 33 columns</p>\n",
       "</div>"
      ],
      "text/plain": [
       "   candidate                                            text_cv  scala  nosql  \\\n",
       "15       063  joseline hernandez d t s c e n t s t n d m c h...      0      0   \n",
       "56       143  m t t h e w h o r r e s j u n o r d e v e l o ...      0      0   \n",
       "43       025  wyatt cooper d t s t r t e g y n d d e l v e r...      0      0   \n",
       "\n",
       "    pandas  pytorch  keras  nlp  numpy  mongodb  ...  django  graphql  \\\n",
       "15       1        1      1    1      1        0  ...       0        0   \n",
       "56       0        1      0    1      1        0  ...       0        0   \n",
       "43       0        1      1    1      0        0  ...       0        0   \n",
       "\n",
       "    deep learning  matlab  SumTechno(s)  distanceFromMean  bonusNumTech  \\\n",
       "15              1       0             9          6.590909      3.590909   \n",
       "56              1       0             8          5.590909      3.590909   \n",
       "43              1       0             7          4.590909      3.590909   \n",
       "\n",
       "        Score  Match Percentage_x  Match Percentage_y  \n",
       "15  11.035354               53.66               53.66  \n",
       "56   8.368687               13.73               13.73  \n",
       "43   7.924242               43.17               43.17  \n",
       "\n",
       "[3 rows x 33 columns]"
      ]
     },
     "execution_count": 23,
     "metadata": {},
     "output_type": "execute_result"
    }
   ],
   "source": [
    "df_final.head(3)"
   ]
  },
  {
   "cell_type": "code",
   "execution_count": 24,
   "metadata": {
    "scrolled": true
   },
   "outputs": [
    {
     "data": {
      "text/html": [
       "<div>\n",
       "<style scoped>\n",
       "    .dataframe tbody tr th:only-of-type {\n",
       "        vertical-align: middle;\n",
       "    }\n",
       "\n",
       "    .dataframe tbody tr th {\n",
       "        vertical-align: top;\n",
       "    }\n",
       "\n",
       "    .dataframe thead th {\n",
       "        text-align: right;\n",
       "    }\n",
       "</style>\n",
       "<table border=\"1\" class=\"dataframe\">\n",
       "  <thead>\n",
       "    <tr style=\"text-align: right;\">\n",
       "      <th></th>\n",
       "      <th>candidate</th>\n",
       "      <th>text_cv</th>\n",
       "      <th>scala</th>\n",
       "      <th>nosql</th>\n",
       "      <th>pandas</th>\n",
       "      <th>pytorch</th>\n",
       "      <th>keras</th>\n",
       "      <th>nlp</th>\n",
       "      <th>numpy</th>\n",
       "      <th>mongodb</th>\n",
       "      <th>...</th>\n",
       "      <th>django</th>\n",
       "      <th>graphql</th>\n",
       "      <th>deep learning</th>\n",
       "      <th>matlab</th>\n",
       "      <th>SumTechno(s)</th>\n",
       "      <th>distanceFromMean</th>\n",
       "      <th>bonusNumTech</th>\n",
       "      <th>Score</th>\n",
       "      <th>Match Percentage_x</th>\n",
       "      <th>Match Percentage_y</th>\n",
       "    </tr>\n",
       "  </thead>\n",
       "  <tbody>\n",
       "    <tr>\n",
       "      <th>33</th>\n",
       "      <td>015</td>\n",
       "      <td>john allen b u s n e s s n l y s t executive p...</td>\n",
       "      <td>0</td>\n",
       "      <td>0</td>\n",
       "      <td>0</td>\n",
       "      <td>0</td>\n",
       "      <td>0</td>\n",
       "      <td>0</td>\n",
       "      <td>0</td>\n",
       "      <td>0</td>\n",
       "      <td>...</td>\n",
       "      <td>0</td>\n",
       "      <td>0</td>\n",
       "      <td>0</td>\n",
       "      <td>0</td>\n",
       "      <td>0</td>\n",
       "      <td>-2.409091</td>\n",
       "      <td>-2.409091</td>\n",
       "      <td>-2.409091</td>\n",
       "      <td>8.01</td>\n",
       "      <td>8.01</td>\n",
       "    </tr>\n",
       "    <tr>\n",
       "      <th>14</th>\n",
       "      <td>116</td>\n",
       "      <td>e v e r e t t b u r n s l e y data analyst avi...</td>\n",
       "      <td>0</td>\n",
       "      <td>0</td>\n",
       "      <td>0</td>\n",
       "      <td>0</td>\n",
       "      <td>0</td>\n",
       "      <td>0</td>\n",
       "      <td>0</td>\n",
       "      <td>0</td>\n",
       "      <td>...</td>\n",
       "      <td>0</td>\n",
       "      <td>0</td>\n",
       "      <td>0</td>\n",
       "      <td>0</td>\n",
       "      <td>0</td>\n",
       "      <td>-2.409091</td>\n",
       "      <td>-2.409091</td>\n",
       "      <td>-2.409091</td>\n",
       "      <td>50.86</td>\n",
       "      <td>50.86</td>\n",
       "    </tr>\n",
       "    <tr>\n",
       "      <th>60</th>\n",
       "      <td>079</td>\n",
       "      <td>j u l c h e n j u n o r e n g n e e r executiv...</td>\n",
       "      <td>0</td>\n",
       "      <td>0</td>\n",
       "      <td>0</td>\n",
       "      <td>0</td>\n",
       "      <td>0</td>\n",
       "      <td>0</td>\n",
       "      <td>0</td>\n",
       "      <td>0</td>\n",
       "      <td>...</td>\n",
       "      <td>0</td>\n",
       "      <td>0</td>\n",
       "      <td>0</td>\n",
       "      <td>0</td>\n",
       "      <td>0</td>\n",
       "      <td>-2.409091</td>\n",
       "      <td>-2.409091</td>\n",
       "      <td>-2.409091</td>\n",
       "      <td>39.55</td>\n",
       "      <td>39.55</td>\n",
       "    </tr>\n",
       "  </tbody>\n",
       "</table>\n",
       "<p>3 rows × 33 columns</p>\n",
       "</div>"
      ],
      "text/plain": [
       "   candidate                                            text_cv  scala  nosql  \\\n",
       "33       015  john allen b u s n e s s n l y s t executive p...      0      0   \n",
       "14       116  e v e r e t t b u r n s l e y data analyst avi...      0      0   \n",
       "60       079  j u l c h e n j u n o r e n g n e e r executiv...      0      0   \n",
       "\n",
       "    pandas  pytorch  keras  nlp  numpy  mongodb  ...  django  graphql  \\\n",
       "33       0        0      0    0      0        0  ...       0        0   \n",
       "14       0        0      0    0      0        0  ...       0        0   \n",
       "60       0        0      0    0      0        0  ...       0        0   \n",
       "\n",
       "    deep learning  matlab  SumTechno(s)  distanceFromMean  bonusNumTech  \\\n",
       "33              0       0             0         -2.409091     -2.409091   \n",
       "14              0       0             0         -2.409091     -2.409091   \n",
       "60              0       0             0         -2.409091     -2.409091   \n",
       "\n",
       "       Score  Match Percentage_x  Match Percentage_y  \n",
       "33 -2.409091                8.01                8.01  \n",
       "14 -2.409091               50.86               50.86  \n",
       "60 -2.409091               39.55               39.55  \n",
       "\n",
       "[3 rows x 33 columns]"
      ]
     },
     "execution_count": 24,
     "metadata": {},
     "output_type": "execute_result"
    }
   ],
   "source": [
    "df_final.tail(3)"
   ]
  },
  {
   "cell_type": "markdown",
   "metadata": {},
   "source": [
    "# End"
   ]
  }
 ],
 "metadata": {
  "interpreter": {
   "hash": "082e9a3bcad0a290d0001e938aa60b99250c6c2ef33a923c00b70f9826caf4b7"
  },
  "kernelspec": {
   "display_name": "Python 3",
   "language": "python",
   "name": "python3"
  },
  "language_info": {
   "codemirror_mode": {
    "name": "ipython",
    "version": 3
   },
   "file_extension": ".py",
   "mimetype": "text/x-python",
   "name": "python",
   "nbconvert_exporter": "python",
   "pygments_lexer": "ipython3",
   "version": "3.8.10"
  }
 },
 "nbformat": 4,
 "nbformat_minor": 4
}
